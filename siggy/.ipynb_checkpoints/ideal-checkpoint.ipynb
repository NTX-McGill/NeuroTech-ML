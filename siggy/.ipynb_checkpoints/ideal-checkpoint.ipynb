{
 "cells": [
  {
   "cell_type": "code",
   "execution_count": 1,
   "metadata": {},
   "outputs": [],
   "source": [
    "import numpy as np \n",
    "import matplotlib.pyplot as plt \n",
    "\n",
    "from finger_letter_mapping import letter_finger, finger_letter"
   ]
  },
  {
   "cell_type": "code",
   "execution_count": 8,
   "metadata": {},
   "outputs": [
    {
     "name": "stdout",
     "output_type": "stream",
     "text": [
      "q\n",
      "a\n",
      "z\n",
      "w\n",
      "s\n",
      "x\n",
      "e\n",
      "d\n",
      "c\n",
      "r\n",
      "f\n",
      "v\n",
      "t\n",
      "g\n",
      "b\n",
      "p\n",
      "o\n",
      "l\n",
      "i\n",
      "k\n",
      "u\n",
      "j\n",
      "m\n",
      "y\n",
      "h\n",
      "n\n"
     ]
    }
   ],
   "source": [
    "sample_text = \"\"\"Conversation is interactive communication between two or more people. \n",
    "The development of conversational skills and etiquette is an important part of socialization. \n",
    "The development of conversational skills in a new language is a frequent focus of language teaching and learning. \n",
    "Conversation analysis is a branch of sociology which studies the structure and organization of human interaction, \n",
    "with a more specific focus on conversational interaction. No generally accepted definition of conversation exists, \n",
    "beyond the fact that a conversation involves at least two people talking together. Consequently, the term is often \n",
    "defined by what it is not. A ritualized exchange such as a mutual greeting is not a conversation, and an interaction \n",
    "that includes a marked status differential (such as a boss giving orders) is also not a conversation. An interaction \n",
    "with a tightly focused topic or purpose is also generally not considered a conversation. Summarizing these properties, \n",
    "one authority writes that Conversation is the kind of speech that happens informally, symmetrically, and for the purposes \n",
    "of establishing and maintaining social ties.\n",
    "\"\"\""
   ]
  },
  {
   "cell_type": "code",
   "execution_count": null,
   "metadata": {},
   "outputs": [],
   "source": []
  }
 ],
 "metadata": {
  "kernelspec": {
   "display_name": "Python 3",
   "language": "python",
   "name": "python3"
  },
  "language_info": {
   "codemirror_mode": {
    "name": "ipython",
    "version": 3
   },
   "file_extension": ".py",
   "mimetype": "text/x-python",
   "name": "python",
   "nbconvert_exporter": "python",
   "pygments_lexer": "ipython3",
   "version": "3.6.8"
  }
 },
 "nbformat": 4,
 "nbformat_minor": 2
}
