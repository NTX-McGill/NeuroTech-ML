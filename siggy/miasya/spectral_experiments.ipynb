{
 "cells": [
  {
   "cell_type": "code",
   "execution_count": 1,
   "metadata": {
    "colab": {},
    "colab_type": "code",
    "id": "zuVE5aYyHHC8"
   },
   "outputs": [],
   "source": [
    "\"\"\"\n",
    "Original file was Marley's, shared in collab\n",
    "\n",
    "Here Miasya is toying with the visualizations to produce figures to feed into a CNN for classification\n",
    "Her next step is to create a loop that generated a lot of images, and labels the file with the appropriate marker\n",
    "As well as the time\n",
    "\n",
    "\"\"\"\n",
    "\n",
    "import pandas as pd\n",
    "import numpy as np\n",
    "import matplotlib.mlab as mlab\n",
    "import matplotlib.pyplot as plt\n",
    "import pandas as pd\n",
    "import datetime\n",
    "import pytz\n",
    "from scipy import signal"
   ]
  },
  {
   "cell_type": "code",
   "execution_count": 2,
   "metadata": {
    "colab": {},
    "colab_type": "code",
    "id": "zuVE5aYyHHC8"
   },
   "outputs": [],
   "source": [
    "markers = '001_trial1_right_log_18-09-46-931825.txt'\n",
    "fname = '001_trial1_right_OpenBCI-RAW-2020-02-09_17-59-22.txt'\n",
    "\n",
    "df = pd.read_csv(markers)\n",
    "start = df['timestamp(ms)'].iloc[0]\n",
    "end = df['timestamp(ms)'].iloc[-1]\n",
    "channel = (1,2,3,4,13)\n",
    "data = np.loadtxt(fname,\n",
    "                  delimiter=',',\n",
    "                  skiprows=7,\n",
    "                  usecols=channel)\n",
    "eeg = data[:,:-1]\n",
    "timestamps = data[:,-1]"
   ]
  },
  {
   "cell_type": "code",
   "execution_count": 3,
   "metadata": {
    "colab": {},
    "colab_type": "code",
    "id": "GLj--C42IvY8"
   },
   "outputs": [],
   "source": [
    "def get_ms(str_time):\n",
    "    \"\"\"\n",
    "    Convert timestamp in keyboard markings file to unix milliseconds\n",
    "    inputs:\n",
    "      str_time (string)\n",
    "    outputs:\n",
    "      milliseconds (float)\n",
    "    \"\"\"\n",
    "    date_time_str = '2020-02-09 ' + str_time\n",
    "    date_time_obj = datetime.datetime.strptime(date_time_str, '%Y-%m-%d %H:%M:%S:%f')\n",
    "\n",
    "    timezone = pytz.timezone('America/New_York')\n",
    "    timezone_date_time_obj = timezone.localize(date_time_obj)\n",
    "    return timezone_date_time_obj.timestamp() * 1000"
   ]
  },
  {
   "cell_type": "code",
   "execution_count": 4,
   "metadata": {
    "colab": {},
    "colab_type": "code",
    "id": "j3mxVFmYLN-J"
   },
   "outputs": [],
   "source": [
    "SAMPLING_FREQ = 250\n",
    "WINDOW_SIZE = 1000 # we can play around with this\n",
    "FIGURE_NAME = \"test.jpeg\"\n",
    "MARKER_SHIFT = 750 # experimentally determined that to make the keypress line up with spike, do - 750\n",
    "\n",
    "def notch_mains_interference(data):\n",
    "    \"\"\"\n",
    "    Notch filter 57-63 Hz\n",
    "    Inputs:\n",
    "        1 channel of signal in time domain\n",
    "    Outputs:\n",
    "        2 channel of signal but filtered\n",
    "    \"\"\"\n",
    "    notch_freq_Hz = np.array([60.0])  # main + harmonic frequencies\n",
    "    for freq_Hz in np.nditer(notch_freq_Hz):  # loop over each target freq\n",
    "        bp_stop_Hz = freq_Hz + 3.0 * np.array([-1, 1])  # set the stop band\n",
    "        b, a = signal.butter(3, bp_stop_Hz / (SAMPLING_FREQ / 2.0), 'bandstop')\n",
    "        arr = signal.lfilter(b, a, data, axis=0)\n",
    "        print(\"Notch filter removing: \" +\n",
    "              str(bp_stop_Hz[0]) +\n",
    "              \"-\" +\n",
    "              str(bp_stop_Hz[1]) +\n",
    "              \" Hz\")\n",
    "    return arr\n",
    "\n",
    "def filter_signal(arr, lowcut=4.0, highcut=60.0, order=3, notch=True):\n",
    "    \"\"\"\n",
    "    Applies following changes to 1 channel:\n",
    "    - Notch filter (if specified in arg)\n",
    "    - Butterworth filter\n",
    "    \n",
    "    Inputs:\n",
    "        1 channel of signal in time domain, lowcut, highcut...\n",
    "    Outputs:\n",
    "        2 channel of signal but filtered\n",
    "    \"\"\"\n",
    "    if notch:\n",
    "        arr = notch_mains_interference(arr)\n",
    "    nyq = 0.5 * SAMPLING_FREQ\n",
    "    b, a = signal.butter(1, [lowcut / nyq, highcut / nyq], btype='band')\n",
    "    for i in range(0, order):\n",
    "        arr = signal.lfilter(b, a, arr, axis=0)\n",
    "    return arr\n",
    "\n",
    "\n",
    "def get_spectral_content(ch, fs_Hz, shift=0.1):\n",
    "    \"\"\"\n",
    "    Inputs:\n",
    "        ch = channel of filtered data\n",
    "        fs_Hz = sampling frequency\n",
    "        shift = specifies overlap of windows (?)\n",
    "    Outputs:\n",
    "        spectral frequencies, power spectral densities...\n",
    "    \"\"\"\n",
    "    NFFT = fs_Hz*2\n",
    "    overlap = NFFT - int(shift * fs_Hz)\n",
    "    spec_PSDperHz, spec_freqs, spec_t = mlab.specgram(np.squeeze(ch),\n",
    "                                   NFFT=NFFT,\n",
    "                                   window=mlab.window_hanning,\n",
    "                                   Fs=fs_Hz,\n",
    "                                   noverlap=overlap\n",
    "                                   ) # returns PSD power per Hz\n",
    "    # convert the units of the spectral data\n",
    "    spec_PSDperBin = spec_PSDperHz * fs_Hz / float(NFFT)\n",
    "    return spec_t, spec_freqs, spec_PSDperBin  # dB re: 1 uV"
   ]
  },
  {
   "cell_type": "code",
   "execution_count": 33,
   "metadata": {
    "colab": {},
    "colab_type": "code",
    "id": "j3mxVFmYLN-J"
   },
   "outputs": [],
   "source": [
    "def plot_specgram(spec_freqs, spec_PSDperBin,title,shift,i=1):\n",
    "    \"\"\"\n",
    "    Miasya be messing with this a lot lol\n",
    "    she wants 1 figure with stacked channels for each window of a letter\n",
    "    \n",
    "    \n",
    "    \"\"\"\n",
    "    f_lim_Hz = [0, 30]   # frequency limits for plotting is 0 to 30\n",
    "    \n",
    "    \n",
    "    spec_t = [idx*.1 for idx in range(len(spec_PSDperBin[0]))]\n",
    "    plt.subplot(4,1,i)\n",
    "    #plt.title(title)\n",
    "    plt.pcolor(spec_t, spec_freqs, 10*np.log10(spec_PSDperBin))  # dB re: 1 uV\n",
    "    plt.clim([-25,26])\n",
    "    plt.xlim(spec_t[0], spec_t[-1]+1)\n",
    "    plt.ylim(f_lim_Hz)\n",
    "    #plt.axis(\"off\")\n",
    "    #plt.xlabel('Time (sec)')\n",
    "    #plt.ylabel('Frequency (Hz)')\n",
    "    plt.subplots_adjust(hspace=0)\n",
    "    #plt.savefig(FIGURE_NAME, bbox_inches=a)\n",
    "    plt.savefig(FIGURE_NAME)\n",
    "    "
   ]
  },
  {
   "cell_type": "code",
   "execution_count": 6,
   "metadata": {
    "colab": {},
    "colab_type": "code",
    "id": "7SRbUgPZQF41"
   },
   "outputs": [],
   "source": [
    "start_idx = np.where(timestamps > get_ms(start))[0][0]\n",
    "end_idx = np.where(timestamps > get_ms(end))[0][0]\n",
    "\n",
    "markings = [get_ms(val) for val in df['timestamp(ms)'].values[::2]]\n",
    "labels = df.values[:,1]"
   ]
  },
  {
   "cell_type": "code",
   "execution_count": 7,
   "metadata": {
    "colab": {},
    "colab_type": "code",
    "id": "7SRbUgPZQF41"
   },
   "outputs": [
    {
     "data": {
      "text/plain": [
       "[('j', 654, 1654),\n",
       " ('k', 4795, 5795),\n",
       " (';', 6812, 7812),\n",
       " ('k', 10386, 11386),\n",
       " ('l', 12952, 13952),\n",
       " ('k', 15630, 16630),\n",
       " ('j', 18537, 19537),\n",
       " (';', 21863, 22863),\n",
       " (';', 24696, 25696),\n",
       " ('k', 27966, 28966),\n",
       " (';', 30986, 31986),\n",
       " ('l', 33729, 34729),\n",
       " ('l', 36706, 37706),\n",
       " (';', 39727, 40727),\n",
       " ('k', 43014, 44014),\n",
       " (';', 45888, 46888),\n",
       " (';', 48625, 49625),\n",
       " ('i', 52491, 53491),\n",
       " ('l', 54884, 55884),\n",
       " (';', 57778, 58778),\n",
       " ('l', 60993, 61993),\n",
       " ('k', 63664, 64664),\n",
       " ('k', 66687, 67687),\n",
       " ('l', 69663, 70663),\n",
       " ('j', 72801, 73801),\n",
       " ('j', 75642, 76642),\n",
       " ('l', 78695, 79695),\n",
       " (';', 81750, 82750)]"
      ]
     },
     "execution_count": 7,
     "metadata": {},
     "output_type": "execute_result"
    }
   ],
   "source": [
    "# list of tuples where its (label, start time, end time) and centred around a label\n",
    "segment_start_ends = []\n",
    "\n",
    "# for every label, i want a window centred around that point\n",
    "for i,mark in enumerate(markings):\n",
    "    segment_start_ends.append((labels[i*2], int((mark-get_ms(start)-WINDOW_SIZE/2-MARKER_SHIFT)), int((mark-get_ms(start)+WINDOW_SIZE/2-MARKER_SHIFT))))\n",
    "    \n",
    "segment_start_ends = segment_start_ends[1:-1] #remove the first and last because of artifacts and index issues?\n",
    "segment_start_ends"
   ]
  },
  {
   "cell_type": "code",
   "execution_count": 9,
   "metadata": {
    "colab": {
     "base_uri": "https://localhost:8080/",
     "height": 729
    },
    "colab_type": "code",
    "id": "weB3B8CxVuP_",
    "outputId": "51bf84a8-faff-4ea5-ea9d-9b8654e3354f"
   },
   "outputs": [
    {
     "name": "stdout",
     "output_type": "stream",
     "text": [
      "Notch filter removing: 57.0-63.0 Hz\n",
      "Notch filter removing: 57.0-63.0 Hz\n",
      "Notch filter removing: 57.0-63.0 Hz\n",
      "Notch filter removing: 57.0-63.0 Hz\n"
     ]
    }
   ],
   "source": [
    "for idx, ch in enumerate(eeg.T):\n",
    "    ch = filter_signal(ch)"
   ]
  },
  {
   "cell_type": "code",
   "execution_count": 35,
   "metadata": {
    "colab": {
     "base_uri": "https://localhost:8080/",
     "height": 729
    },
    "colab_type": "code",
    "id": "weB3B8CxVuP_",
    "outputId": "51bf84a8-faff-4ea5-ea9d-9b8654e3354f"
   },
   "outputs": [
    {
     "data": {
      "image/png": "[encoded data removed]",
      "text/plain": [
       "<Figure size 960x960 with 4 Axes>"
      ]
     },
     "metadata": {},
     "output_type": "display_data"
    }
   ],
   "source": [
    "# Get all 4 channels\n",
    "from matplotlib.transforms import Bbox\n",
    "a = Bbox(np.array([[1.55,0],[3.85,11.9]]))\n",
    "\n",
    "fig=plt.figure(figsize=(12,12), dpi= 80, facecolor='w', edgecolor='k')\n",
    "\n",
    "ARBIT_START = 20 * 1000 # arbitrary starting point\n",
    "FIVE_S = 5 * 250 # five seconds and we will make this work with inches\n",
    "\n",
    "\n",
    "for idx, ch in enumerate(eeg.T):\n",
    "    t, spec_freqs, spec_PSDperBin = get_spectral_content(ch[ARBIT_START:ARBIT_START+FIVE_S], 250)\n",
    "    plot_specgram(spec_freqs, spec_PSDperBin,'channel {}'.format(idx + 1), 0, idx+1)\n",
    "    #plt.savefig(mark+\"_\"+str(start)+\"_\"+str(end)+\"_\"+FIGURE_NAME)\n",
    "plt.savefig(\"aaaaaaaa\"+FIGURE_NAME, bbox_inches=a)"
   ]
  }
 ],
 "metadata": {
  "colab": {
   "name": "spectral.ipynb",
   "provenance": [],
   "toc_visible": true
  },
  "kernelspec": {
   "display_name": "Python 3",
   "language": "python",
   "name": "python3"
  },
  "language_info": {
   "codemirror_mode": {
    "name": "ipython",
    "version": 3
   },
   "file_extension": ".py",
   "mimetype": "text/x-python",
   "name": "python",
   "nbconvert_exporter": "python",
   "pygments_lexer": "ipython3",
   "version": "3.7.1"
  }
 },
 "nbformat": 4,
 "nbformat_minor": 1
}
