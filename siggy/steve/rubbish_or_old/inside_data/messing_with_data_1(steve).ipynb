{
 "cells": [
  {
   "cell_type": "code",
   "execution_count": 1,
   "metadata": {},
   "outputs": [],
   "source": [
    "import numpy as np\n",
    "import pandas as pd\n",
    "import matplotlib.pyplot as plt\n",
    "import seaborn as sns\n",
    "# import pyarrow.parquet as pq\n",
    "from scipy import signal\n",
    "import random\n",
    "import csv"
   ]
  },
  {
   "cell_type": "markdown",
   "metadata": {},
   "source": [
    "### Load the data"
   ]
  },
  {
   "cell_type": "code",
   "execution_count": 2,
   "metadata": {
    "scrolled": true
   },
   "outputs": [
    {
     "data": {
      "text/html": [
       "<div>\n",
       "<style scoped>\n",
       "    .dataframe tbody tr th:only-of-type {\n",
       "        vertical-align: middle;\n",
       "    }\n",
       "\n",
       "    .dataframe tbody tr th {\n",
       "        vertical-align: top;\n",
       "    }\n",
       "\n",
       "    .dataframe thead th {\n",
       "        text-align: right;\n",
       "    }\n",
       "</style>\n",
       "<table border=\"1\" class=\"dataframe\">\n",
       "  <thead>\n",
       "    <tr style=\"text-align: right;\">\n",
       "      <th></th>\n",
       "      <th>timestamp(ms)</th>\n",
       "      <th>keypressed</th>\n",
       "    </tr>\n",
       "  </thead>\n",
       "  <tbody>\n",
       "    <tr>\n",
       "      <th>0</th>\n",
       "      <td>18:09:48:685134</td>\n",
       "      <td>i</td>\n",
       "    </tr>\n",
       "    <tr>\n",
       "      <th>1</th>\n",
       "      <td>18:09:48:826228</td>\n",
       "      <td>i</td>\n",
       "    </tr>\n",
       "    <tr>\n",
       "      <th>2</th>\n",
       "      <td>18:09:50:589497</td>\n",
       "      <td>j</td>\n",
       "    </tr>\n",
       "    <tr>\n",
       "      <th>3</th>\n",
       "      <td>18:09:50:687236</td>\n",
       "      <td>j</td>\n",
       "    </tr>\n",
       "    <tr>\n",
       "      <th>4</th>\n",
       "      <td>18:09:54:730437</td>\n",
       "      <td>k</td>\n",
       "    </tr>\n",
       "  </tbody>\n",
       "</table>\n",
       "</div>"
      ],
      "text/plain": [
       "     timestamp(ms)  keypressed\n",
       "0  18:09:48:685134           i\n",
       "1  18:09:48:826228           i\n",
       "2  18:09:50:589497           j\n",
       "3  18:09:50:687236           j\n",
       "4  18:09:54:730437           k"
      ]
     },
     "execution_count": 2,
     "metadata": {},
     "output_type": "execute_result"
    }
   ],
   "source": [
    "df1 = pd.read_csv('001_trial1_right_OpenBCI-RAW-2020-02-09_17-59-22.txt',\n",
    "                  sep=', ',names=['1','2','7','8'],skiprows=6,usecols=[1,2,7,8], engine='python')\n",
    "df1['key'] = 0\n",
    "df2 = pd.read_csv('001_trial1_right_log_18-09-46-931825.txt')\n",
    "df2.head()"
   ]
  },
  {
   "cell_type": "code",
   "execution_count": 3,
   "metadata": {
    "scrolled": true
   },
   "outputs": [
    {
     "data": {
      "text/plain": [
       "98494"
      ]
     },
     "execution_count": 3,
     "metadata": {},
     "output_type": "execute_result"
    }
   ],
   "source": [
    "# df1.head()\n",
    "len(df1['1'].values)"
   ]
  },
  {
   "cell_type": "code",
   "execution_count": 4,
   "metadata": {},
   "outputs": [
    {
     "data": {
      "text/html": [
       "<div>\n",
       "<style scoped>\n",
       "    .dataframe tbody tr th:only-of-type {\n",
       "        vertical-align: middle;\n",
       "    }\n",
       "\n",
       "    .dataframe tbody tr th {\n",
       "        vertical-align: top;\n",
       "    }\n",
       "\n",
       "    .dataframe thead th {\n",
       "        text-align: right;\n",
       "    }\n",
       "</style>\n",
       "<table border=\"1\" class=\"dataframe\">\n",
       "  <thead>\n",
       "    <tr style=\"text-align: right;\">\n",
       "      <th></th>\n",
       "      <th>timestamp(ms)</th>\n",
       "      <th>keypressed</th>\n",
       "    </tr>\n",
       "  </thead>\n",
       "  <tbody>\n",
       "    <tr>\n",
       "      <th>0</th>\n",
       "      <td>18:09:48:685134</td>\n",
       "      <td>i</td>\n",
       "    </tr>\n",
       "    <tr>\n",
       "      <th>1</th>\n",
       "      <td>18:09:48:826228</td>\n",
       "      <td>i</td>\n",
       "    </tr>\n",
       "    <tr>\n",
       "      <th>2</th>\n",
       "      <td>18:09:50:589497</td>\n",
       "      <td>j</td>\n",
       "    </tr>\n",
       "    <tr>\n",
       "      <th>3</th>\n",
       "      <td>18:09:50:687236</td>\n",
       "      <td>j</td>\n",
       "    </tr>\n",
       "    <tr>\n",
       "      <th>4</th>\n",
       "      <td>18:09:54:730437</td>\n",
       "      <td>k</td>\n",
       "    </tr>\n",
       "  </tbody>\n",
       "</table>\n",
       "</div>"
      ],
      "text/plain": [
       "     timestamp(ms)  keypressed\n",
       "0  18:09:48:685134           i\n",
       "1  18:09:48:826228           i\n",
       "2  18:09:50:589497           j\n",
       "3  18:09:50:687236           j\n",
       "4  18:09:54:730437           k"
      ]
     },
     "execution_count": 4,
     "metadata": {},
     "output_type": "execute_result"
    }
   ],
   "source": [
    "df2.head()"
   ]
  },
  {
   "cell_type": "code",
   "execution_count": null,
   "metadata": {},
   "outputs": [],
   "source": []
  },
  {
   "cell_type": "code",
   "execution_count": 5,
   "metadata": {
    "scrolled": true
   },
   "outputs": [
    {
     "data": {
      "text/html": [
       "<div>\n",
       "<style scoped>\n",
       "    .dataframe tbody tr th:only-of-type {\n",
       "        vertical-align: middle;\n",
       "    }\n",
       "\n",
       "    .dataframe tbody tr th {\n",
       "        vertical-align: top;\n",
       "    }\n",
       "\n",
       "    .dataframe thead th {\n",
       "        text-align: right;\n",
       "    }\n",
       "</style>\n",
       "<table border=\"1\" class=\"dataframe\">\n",
       "  <thead>\n",
       "    <tr style=\"text-align: right;\">\n",
       "      <th></th>\n",
       "      <th>1</th>\n",
       "      <th>2</th>\n",
       "      <th>7</th>\n",
       "      <th>8</th>\n",
       "      <th>key</th>\n",
       "    </tr>\n",
       "  </thead>\n",
       "  <tbody>\n",
       "    <tr>\n",
       "      <th>0</th>\n",
       "      <td>42577.90</td>\n",
       "      <td>-3345.36</td>\n",
       "      <td>-183506.11</td>\n",
       "      <td>-163093.72</td>\n",
       "      <td>0</td>\n",
       "    </tr>\n",
       "    <tr>\n",
       "      <th>1</th>\n",
       "      <td>42564.29</td>\n",
       "      <td>-3343.55</td>\n",
       "      <td>-183504.19</td>\n",
       "      <td>-163092.53</td>\n",
       "      <td>0</td>\n",
       "    </tr>\n",
       "    <tr>\n",
       "      <th>2</th>\n",
       "      <td>42599.99</td>\n",
       "      <td>-3347.24</td>\n",
       "      <td>-183499.44</td>\n",
       "      <td>-163088.47</td>\n",
       "      <td>0</td>\n",
       "    </tr>\n",
       "    <tr>\n",
       "      <th>3</th>\n",
       "      <td>42622.59</td>\n",
       "      <td>-3353.81</td>\n",
       "      <td>-183495.52</td>\n",
       "      <td>-163084.56</td>\n",
       "      <td>0</td>\n",
       "    </tr>\n",
       "    <tr>\n",
       "      <th>4</th>\n",
       "      <td>42593.48</td>\n",
       "      <td>-3355.22</td>\n",
       "      <td>-183493.05</td>\n",
       "      <td>-163084.06</td>\n",
       "      <td>0</td>\n",
       "    </tr>\n",
       "    <tr>\n",
       "      <th>5</th>\n",
       "      <td>42570.55</td>\n",
       "      <td>-3347.13</td>\n",
       "      <td>-183490.69</td>\n",
       "      <td>-163082.50</td>\n",
       "      <td>0</td>\n",
       "    </tr>\n",
       "    <tr>\n",
       "      <th>6</th>\n",
       "      <td>42601.33</td>\n",
       "      <td>-3347.15</td>\n",
       "      <td>-183486.22</td>\n",
       "      <td>-163079.94</td>\n",
       "      <td>0</td>\n",
       "    </tr>\n",
       "    <tr>\n",
       "      <th>7</th>\n",
       "      <td>42633.18</td>\n",
       "      <td>-3353.45</td>\n",
       "      <td>-183482.69</td>\n",
       "      <td>-163077.03</td>\n",
       "      <td>0</td>\n",
       "    </tr>\n",
       "    <tr>\n",
       "      <th>8</th>\n",
       "      <td>42610.05</td>\n",
       "      <td>-3350.39</td>\n",
       "      <td>-183479.97</td>\n",
       "      <td>-163076.09</td>\n",
       "      <td>0</td>\n",
       "    </tr>\n",
       "    <tr>\n",
       "      <th>9</th>\n",
       "      <td>42579.20</td>\n",
       "      <td>-3343.11</td>\n",
       "      <td>-183466.02</td>\n",
       "      <td>-163075.50</td>\n",
       "      <td>0</td>\n",
       "    </tr>\n",
       "    <tr>\n",
       "      <th>10</th>\n",
       "      <td>42602.45</td>\n",
       "      <td>-3347.42</td>\n",
       "      <td>-183456.77</td>\n",
       "      <td>-163071.77</td>\n",
       "      <td>0</td>\n",
       "    </tr>\n",
       "    <tr>\n",
       "      <th>11</th>\n",
       "      <td>42636.96</td>\n",
       "      <td>-3354.68</td>\n",
       "      <td>-183464.50</td>\n",
       "      <td>-163066.83</td>\n",
       "      <td>0</td>\n",
       "    </tr>\n",
       "    <tr>\n",
       "      <th>12</th>\n",
       "      <td>42621.67</td>\n",
       "      <td>-3356.40</td>\n",
       "      <td>-183486.38</td>\n",
       "      <td>-163064.20</td>\n",
       "      <td>0</td>\n",
       "    </tr>\n",
       "    <tr>\n",
       "      <th>13</th>\n",
       "      <td>42585.64</td>\n",
       "      <td>-3349.79</td>\n",
       "      <td>-183494.67</td>\n",
       "      <td>-163063.59</td>\n",
       "      <td>0</td>\n",
       "    </tr>\n",
       "    <tr>\n",
       "      <th>14</th>\n",
       "      <td>42599.16</td>\n",
       "      <td>-3349.95</td>\n",
       "      <td>-183491.63</td>\n",
       "      <td>-163060.98</td>\n",
       "      <td>0</td>\n",
       "    </tr>\n",
       "    <tr>\n",
       "      <th>15</th>\n",
       "      <td>42634.74</td>\n",
       "      <td>-3360.05</td>\n",
       "      <td>-183486.84</td>\n",
       "      <td>-163056.59</td>\n",
       "      <td>0</td>\n",
       "    </tr>\n",
       "    <tr>\n",
       "      <th>16</th>\n",
       "      <td>42626.25</td>\n",
       "      <td>-3359.40</td>\n",
       "      <td>-183483.42</td>\n",
       "      <td>-163052.86</td>\n",
       "      <td>0</td>\n",
       "    </tr>\n",
       "    <tr>\n",
       "      <th>17</th>\n",
       "      <td>42586.55</td>\n",
       "      <td>-3350.19</td>\n",
       "      <td>-183482.48</td>\n",
       "      <td>-163051.86</td>\n",
       "      <td>0</td>\n",
       "    </tr>\n",
       "    <tr>\n",
       "      <th>18</th>\n",
       "      <td>42590.09</td>\n",
       "      <td>-3347.78</td>\n",
       "      <td>-183479.67</td>\n",
       "      <td>-163049.08</td>\n",
       "      <td>0</td>\n",
       "    </tr>\n",
       "    <tr>\n",
       "      <th>19</th>\n",
       "      <td>42627.73</td>\n",
       "      <td>-3356.83</td>\n",
       "      <td>-183474.91</td>\n",
       "      <td>-163045.08</td>\n",
       "      <td>0</td>\n",
       "    </tr>\n",
       "  </tbody>\n",
       "</table>\n",
       "</div>"
      ],
      "text/plain": [
       "           1        2          7          8  key\n",
       "0   42577.90 -3345.36 -183506.11 -163093.72    0\n",
       "1   42564.29 -3343.55 -183504.19 -163092.53    0\n",
       "2   42599.99 -3347.24 -183499.44 -163088.47    0\n",
       "3   42622.59 -3353.81 -183495.52 -163084.56    0\n",
       "4   42593.48 -3355.22 -183493.05 -163084.06    0\n",
       "5   42570.55 -3347.13 -183490.69 -163082.50    0\n",
       "6   42601.33 -3347.15 -183486.22 -163079.94    0\n",
       "7   42633.18 -3353.45 -183482.69 -163077.03    0\n",
       "8   42610.05 -3350.39 -183479.97 -163076.09    0\n",
       "9   42579.20 -3343.11 -183466.02 -163075.50    0\n",
       "10  42602.45 -3347.42 -183456.77 -163071.77    0\n",
       "11  42636.96 -3354.68 -183464.50 -163066.83    0\n",
       "12  42621.67 -3356.40 -183486.38 -163064.20    0\n",
       "13  42585.64 -3349.79 -183494.67 -163063.59    0\n",
       "14  42599.16 -3349.95 -183491.63 -163060.98    0\n",
       "15  42634.74 -3360.05 -183486.84 -163056.59    0\n",
       "16  42626.25 -3359.40 -183483.42 -163052.86    0\n",
       "17  42586.55 -3350.19 -183482.48 -163051.86    0\n",
       "18  42590.09 -3347.78 -183479.67 -163049.08    0\n",
       "19  42627.73 -3356.83 -183474.91 -163045.08    0"
      ]
     },
     "execution_count": 5,
     "metadata": {},
     "output_type": "execute_result"
    }
   ],
   "source": [
    "# len(head),len(content)\n",
    "df1[:20]"
   ]
  },
  {
   "cell_type": "code",
   "execution_count": 6,
   "metadata": {
    "scrolled": true
   },
   "outputs": [
    {
     "data": {
      "text/html": [
       "<div>\n",
       "<style scoped>\n",
       "    .dataframe tbody tr th:only-of-type {\n",
       "        vertical-align: middle;\n",
       "    }\n",
       "\n",
       "    .dataframe tbody tr th {\n",
       "        vertical-align: top;\n",
       "    }\n",
       "\n",
       "    .dataframe thead th {\n",
       "        text-align: right;\n",
       "    }\n",
       "</style>\n",
       "<table border=\"1\" class=\"dataframe\">\n",
       "  <thead>\n",
       "    <tr style=\"text-align: right;\">\n",
       "      <th></th>\n",
       "      <th>1</th>\n",
       "      <th>2</th>\n",
       "      <th>7</th>\n",
       "      <th>8</th>\n",
       "      <th>key</th>\n",
       "    </tr>\n",
       "  </thead>\n",
       "  <tbody>\n",
       "    <tr>\n",
       "      <th>0</th>\n",
       "      <td>42577.90</td>\n",
       "      <td>-3345.36</td>\n",
       "      <td>-183506.11</td>\n",
       "      <td>-163093.72</td>\n",
       "      <td>0</td>\n",
       "    </tr>\n",
       "    <tr>\n",
       "      <th>1</th>\n",
       "      <td>42564.29</td>\n",
       "      <td>-3343.55</td>\n",
       "      <td>-183504.19</td>\n",
       "      <td>-163092.53</td>\n",
       "      <td>0</td>\n",
       "    </tr>\n",
       "    <tr>\n",
       "      <th>2</th>\n",
       "      <td>42599.99</td>\n",
       "      <td>-3347.24</td>\n",
       "      <td>-183499.44</td>\n",
       "      <td>-163088.47</td>\n",
       "      <td>0</td>\n",
       "    </tr>\n",
       "    <tr>\n",
       "      <th>3</th>\n",
       "      <td>42622.59</td>\n",
       "      <td>-3353.81</td>\n",
       "      <td>-183495.52</td>\n",
       "      <td>-163084.56</td>\n",
       "      <td>0</td>\n",
       "    </tr>\n",
       "    <tr>\n",
       "      <th>4</th>\n",
       "      <td>42593.48</td>\n",
       "      <td>-3355.22</td>\n",
       "      <td>-183493.05</td>\n",
       "      <td>-163084.06</td>\n",
       "      <td>0</td>\n",
       "    </tr>\n",
       "  </tbody>\n",
       "</table>\n",
       "</div>"
      ],
      "text/plain": [
       "          1        2          7          8  key\n",
       "0  42577.90 -3345.36 -183506.11 -163093.72    0\n",
       "1  42564.29 -3343.55 -183504.19 -163092.53    0\n",
       "2  42599.99 -3347.24 -183499.44 -163088.47    0\n",
       "3  42622.59 -3353.81 -183495.52 -163084.56    0\n",
       "4  42593.48 -3355.22 -183493.05 -163084.06    0"
      ]
     },
     "execution_count": 6,
     "metadata": {},
     "output_type": "execute_result"
    }
   ],
   "source": [
    "df1.head()"
   ]
  },
  {
   "cell_type": "code",
   "execution_count": 7,
   "metadata": {},
   "outputs": [
    {
     "data": {
      "text/plain": [
       "Index(['1', '2', '7', '8', 'key'], dtype='object')"
      ]
     },
     "execution_count": 7,
     "metadata": {},
     "output_type": "execute_result"
    }
   ],
   "source": [
    "df1.columns\n",
    "# df1['1'].values"
   ]
  },
  {
   "cell_type": "code",
   "execution_count": 9,
   "metadata": {
    "scrolled": true
   },
   "outputs": [
    {
     "data": {
      "image/png": "[encoded data removed]",
      "text/plain": [
       "<Figure size 1080x720 with 4 Axes>"
      ]
     },
     "metadata": {
      "needs_background": "light"
     },
     "output_type": "display_data"
    }
   ],
   "source": [
    "plt.figure(figsize=(15,10))\n",
    "# plt.\n",
    "cols = ['1','2','7','8']\n",
    "\n",
    "for i in range(4):\n",
    "    plt.subplot(2,2,i+1)\n",
    "    plt.plot(df1[cols[i]].values)\n",
    "\n",
    "plt.show()"
   ]
  },
  {
   "cell_type": "markdown",
   "metadata": {},
   "source": [
    "### clean the data try some filters\n",
    "##### start off by defining some filters"
   ]
  },
  {
   "cell_type": "code",
   "execution_count": 144,
   "metadata": {},
   "outputs": [],
   "source": [
    "# simple convolution, takes the signal and window size, returns filtered signal\n",
    "def box(sig, window):\n",
    "    conv = np.repeat([0.,1.,0.], window)\n",
    "    filtered = signal.convolve(sig, conv, mode='same') / window # normalising factor\n",
    "    return filtered\n",
    "\n",
    "# MMAV1\n",
    "def mmav2(sig,window):\n",
    "    conv = np.repeat([0.5,1.,0.5], window)\n",
    "    filtered = signal.convolve(sig, conv, mode='same') / (2*window)\n",
    "    return filtered\n",
    "\n",
    "# MAVS - the slopey one\n",
    "def mavs(sig,window):\n",
    "    ar1 = np.asarray([4*k/ window for k in range(window//4)])\n",
    "    ar2 = np.ones(window//2)\n",
    "    ar3 = np.asarray([np.float(1 - 4*k/window) for k in range(window//4)])\n",
    "    conv = np.concatenate([ar1,ar2,ar3])\n",
    "    normalize = np.sum(conv)\n",
    "    \n",
    "    filtered = signal.convolve(sig, conv, mode='same') / normalize\n",
    "    return filtered\n",
    "\n",
    "def thresh(x,a):\n",
    "    if x>a: return 1\n",
    "    else: return 0\n",
    "\n",
    "def willisen(sig,window):\n",
    "    convolved = []\n",
    "    for i in range(len(sig)-window):\n",
    "        sa = np.sum([thresh(np.abs(sig[i+j] - sig[i+j+1]),0.0005) for j in range(window)])\n",
    "        convolved.append(sa / window)\n",
    "    return np.asarray(convolved)"
   ]
  },
  {
   "cell_type": "markdown",
   "metadata": {},
   "source": [
    "#### apply some filters to the first column and plot them side by side"
   ]
  },
  {
   "cell_type": "code",
   "execution_count": 153,
   "metadata": {},
   "outputs": [
    {
     "data": {
      "text/plain": [
       "[<matplotlib.lines.Line2D at 0x7f40475f1eb8>]"
      ]
     },
     "execution_count": 153,
     "metadata": {},
     "output_type": "execute_result"
    },
    {
     "data": {
      "image/png": "[encoded data removed]",
      "text/plain": [
       "<Figure size 1080x720 with 4 Axes>"
      ]
     },
     "metadata": {
      "needs_background": "light"
     },
     "output_type": "display_data"
    }
   ],
   "source": [
    "box_filt100 = box(df1['1'].values,window=200)\n",
    "mmav2100 = mmav2(df1['1'].values,window=200)\n",
    "mavs100 = mavs(df1['1'].values,window=200)\n",
    "plt.figure(figsize=(15,10))\n",
    "plt.suptitle(\"applying different filters\")\n",
    "plt.subplot(2,2,1)\n",
    "plt.plot(df1['1'])\n",
    "plt.subplot(2,2,2)\n",
    "plt.plot(box_filt100)\n",
    "plt.subplot(2,2,3)\n",
    "plt.plot(mmav2100)\n",
    "plt.subplot(2,2,4)\n",
    "plt.plot(mavs100)"
   ]
  },
  {
   "cell_type": "code",
   "execution_count": 147,
   "metadata": {},
   "outputs": [
    {
     "data": {
      "text/plain": [
       "[<matplotlib.lines.Line2D at 0x7f407d999e10>]"
      ]
     },
     "execution_count": 147,
     "metadata": {},
     "output_type": "execute_result"
    },
    {
     "data": {
      "image/png": "[encoded data removed]",
      "text/plain": [
       "<Figure size 432x288 with 1 Axes>"
      ]
     },
     "metadata": {
      "needs_background": "light"
     },
     "output_type": "display_data"
    }
   ],
   "source": [
    "plt.plot(box_filt)"
   ]
  },
  {
   "cell_type": "code",
   "execution_count": 122,
   "metadata": {},
   "outputs": [
    {
     "data": {
      "text/html": [
       "<div>\n",
       "<style scoped>\n",
       "    .dataframe tbody tr th:only-of-type {\n",
       "        vertical-align: middle;\n",
       "    }\n",
       "\n",
       "    .dataframe tbody tr th {\n",
       "        vertical-align: top;\n",
       "    }\n",
       "\n",
       "    .dataframe thead th {\n",
       "        text-align: right;\n",
       "    }\n",
       "</style>\n",
       "<table border=\"1\" class=\"dataframe\">\n",
       "  <thead>\n",
       "    <tr style=\"text-align: right;\">\n",
       "      <th></th>\n",
       "      <th>timestamp(ms)</th>\n",
       "      <th>keypressed</th>\n",
       "    </tr>\n",
       "  </thead>\n",
       "  <tbody>\n",
       "    <tr>\n",
       "      <th>0</th>\n",
       "      <td>18:09:48:685134</td>\n",
       "      <td>i</td>\n",
       "    </tr>\n",
       "    <tr>\n",
       "      <th>1</th>\n",
       "      <td>18:09:48:826228</td>\n",
       "      <td>i</td>\n",
       "    </tr>\n",
       "    <tr>\n",
       "      <th>2</th>\n",
       "      <td>18:09:50:589497</td>\n",
       "      <td>j</td>\n",
       "    </tr>\n",
       "    <tr>\n",
       "      <th>3</th>\n",
       "      <td>18:09:50:687236</td>\n",
       "      <td>j</td>\n",
       "    </tr>\n",
       "    <tr>\n",
       "      <th>4</th>\n",
       "      <td>18:09:54:730437</td>\n",
       "      <td>k</td>\n",
       "    </tr>\n",
       "  </tbody>\n",
       "</table>\n",
       "</div>"
      ],
      "text/plain": [
       "     timestamp(ms)  keypressed\n",
       "0  18:09:48:685134           i\n",
       "1  18:09:48:826228           i\n",
       "2  18:09:50:589497           j\n",
       "3  18:09:50:687236           j\n",
       "4  18:09:54:730437           k"
      ]
     },
     "execution_count": 122,
     "metadata": {},
     "output_type": "execute_result"
    }
   ],
   "source": []
  },
  {
   "cell_type": "code",
   "execution_count": null,
   "metadata": {},
   "outputs": [],
   "source": []
  },
  {
   "cell_type": "code",
   "execution_count": null,
   "metadata": {},
   "outputs": [],
   "source": []
  },
  {
   "cell_type": "code",
   "execution_count": null,
   "metadata": {},
   "outputs": [],
   "source": []
  }
 ],
 "metadata": {
  "kernelspec": {
   "display_name": "Python 3",
   "language": "python",
   "name": "python3"
  },
  "language_info": {
   "codemirror_mode": {
    "name": "ipython",
    "version": 3
   },
   "file_extension": ".py",
   "mimetype": "text/x-python",
   "name": "python",
   "nbconvert_exporter": "python",
   "pygments_lexer": "ipython3",
   "version": "3.7.3"
  }
 },
 "nbformat": 4,
 "nbformat_minor": 2
}
