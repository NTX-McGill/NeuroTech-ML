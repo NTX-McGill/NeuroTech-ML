{
 "cells": [
  {
   "cell_type": "code",
   "execution_count": 7,
   "metadata": {},
   "outputs": [],
   "source": [
    "import numpy as np \n",
    "import matplotlib.pyplot as plt \n",
    "from keras.utils import to_categorical\n",
    "import nltk\n",
    "from nltk.tag import hmm\n",
    "from nltk.probability import LaplaceProbDist\n",
    "import random\n",
    "\n",
    "from finger_letter_mapping import letter_finger, finger_letter"
   ]
  },
  {
   "cell_type": "code",
   "execution_count": 24,
   "metadata": {},
   "outputs": [],
   "source": [
    "f1 = open('training.txt', 'r')\n",
    "f2 = open('testing.txt', 'r')\n",
    "training = f1.read().lower().splitlines()\n",
    "testing = f2.read().lower().splitlines()\n",
    "f1.close()\n",
    "f2.close()"
   ]
  },
  {
   "cell_type": "code",
   "execution_count": 25,
   "metadata": {},
   "outputs": [
    {
     "name": "stdout",
     "output_type": "stream",
     "text": [
      "Letter space (hidden states):\n",
      "  dict_keys(['q', 'a', 'z', 'w', 's', 'x', 'e', 'd', 'c', 'r', 'f', 'v', 't', 'g', 'b', 'p', 'o', 'l', 'i', 'k', 'u', 'j', 'm', 'y', 'h', 'n', ' '])\n",
      "Finger space (observed states): \n",
      " dict_keys([0, 1, 2, 3, 4, 5, 6, 7, 8])\n"
     ]
    }
   ],
   "source": [
    "print('Letter space (hidden states):\\n ', letter_finger.keys())\n",
    "print('Finger space (observed states): \\n', finger_letter.keys())"
   ]
  },
  {
   "cell_type": "code",
   "execution_count": 26,
   "metadata": {},
   "outputs": [
    {
     "name": "stdout",
     "output_type": "stream",
     "text": [
      "conversation is interactive communication between two or more people. the development of conversational skills and etiquette is an important part of socialization. the development of conversational skills in a new language is a frequent focus of language teaching and learning. conversation analysis is a branch of sociology which studies the structure and organization of human interaction, with a more specific focus on conversational interaction. no generally accepted definition of conversation exists, beyond the fact that a conversation involves at least two people talking together. consequently, the term is often defined by what it is not. a ritualized exchange such as a mutual greeting is not a conversation, and an interaction that includes a marked status differential (such as a boss giving orders) is also not a conversation. an interaction with a tightly focused topic or purpose is also generally not considered a conversation. summarizing these properties, one authority writes that conversation is the kind of speech that happens informally, symmetrically, and for the purposes of establishing and maintaining social ties. \n"
     ]
    }
   ],
   "source": [
    "print(training[0])"
   ]
  },
  {
   "cell_type": "code",
   "execution_count": 27,
   "metadata": {},
   "outputs": [],
   "source": [
    "def text_to_finger(data): \n",
    "    output = [] \n",
    "    for row in data:\n",
    "        output.append(np.array([letter_finger[c] for c in row.lower() if c in letter_finger.keys()]))\n",
    "    return np.array(output)\n",
    "def text_to_label(data): \n",
    "    output = []\n",
    "    for row in data: \n",
    "        output.append(np.array(list(filter(lambda c: c in letter_finger.keys(), row))))\n",
    "    return np.array(output)"
   ]
  },
  {
   "cell_type": "code",
   "execution_count": 28,
   "metadata": {
    "scrolled": false
   },
   "outputs": [
    {
     "name": "stdout",
     "output_type": "stream",
     "text": [
      "reality check: 51 51\n",
      "1124 1124\n"
     ]
    }
   ],
   "source": [
    "mapped_training = text_to_finger(training)\n",
    "mapped_testing = text_to_finger(testing)\n",
    "labels_training = text_to_label(training)\n",
    "labels_testing = text_to_label(testing)\n",
    "\n",
    "# list(map(lambda c: letter_finger[c] if c in letter_finger.keys() else None, sample_text.lower()))\n",
    "print('reality check:', mapped_training.size, len(labels_training))\n",
    "print(mapped_training[0].size, labels_training[0].size)"
   ]
  },
  {
   "cell_type": "code",
   "execution_count": 29,
   "metadata": {},
   "outputs": [],
   "source": [
    "def finger_to_onehot(data): \n",
    "    return np.array([to_categorical(row) for row in data])"
   ]
  },
  {
   "cell_type": "code",
   "execution_count": 30,
   "metadata": {},
   "outputs": [],
   "source": [
    "onehot_training = finger_to_onehot(mapped_training)\n",
    "onehot_testing = finger_to_onehot(mapped_testing)"
   ]
  },
  {
   "cell_type": "code",
   "execution_count": 31,
   "metadata": {},
   "outputs": [],
   "source": [
    "# TO DO: add noise to one hot encoding \n",
    "\n",
    "# to turn one hot back to label: np.argmax(mapped_one_hot[0])\n",
    "# mapped_noise = [letter + NOISE for letter in mapped_one_hot]\n",
    "# for letter in mapped_one_hot: \n",
    "    "
   ]
  },
  {
   "cell_type": "markdown",
   "metadata": {},
   "source": [
    "turn finger mapping back to text using HMM"
   ]
  },
  {
   "cell_type": "code",
   "execution_count": 32,
   "metadata": {},
   "outputs": [],
   "source": [
    "trainer = hmm.HiddenMarkovModelTrainer(states = letter_finger.keys(), symbols = finger_letter.keys())\n",
    "# symbols: observations ; states: hidden states"
   ]
  },
  {
   "cell_type": "code",
   "execution_count": 33,
   "metadata": {},
   "outputs": [],
   "source": [
    "est = LaplaceProbDist"
   ]
  },
  {
   "cell_type": "code",
   "execution_count": 34,
   "metadata": {},
   "outputs": [],
   "source": [
    "def make_seq(finger, labels): \n",
    "    out = []\n",
    "    for i in range(len(finger)): \n",
    "        out.append([(ss, target) for ss, target in zip(finger[i], labels[i])])\n",
    "    return out"
   ]
  },
  {
   "cell_type": "code",
   "execution_count": 35,
   "metadata": {},
   "outputs": [],
   "source": [
    "seq = make_seq(mapped_training, labels_training)\n",
    "test_seq = make_seq(mapped_testing, labels_testing)"
   ]
  },
  {
   "cell_type": "code",
   "execution_count": 36,
   "metadata": {},
   "outputs": [],
   "source": [
    "tagger = trainer.train_supervised(seq, estimator=est)"
   ]
  },
  {
   "cell_type": "code",
   "execution_count": 37,
   "metadata": {},
   "outputs": [
    {
     "name": "stdout",
     "output_type": "stream",
     "text": [
      "accuracy over 2716 tokens: 78.39\n"
     ]
    }
   ],
   "source": [
    "tagger.test(test_seq)"
   ]
  },
  {
   "cell_type": "code",
   "execution_count": 39,
   "metadata": {},
   "outputs": [
    {
     "data": {
      "text/plain": [
       "[(3, 't'),\n",
       " (2, 'e'),\n",
       " (8, 'm'),\n",
       " (5, 'p'),\n",
       " (3, 'r'),\n",
       " (0, 'a'),\n",
       " (3, 't'),\n",
       " (7, 'i'),\n",
       " (6, 'o'),\n",
       " (8, 'n')]"
      ]
     },
     "execution_count": 39,
     "metadata": {},
     "output_type": "execute_result"
    }
   ],
   "source": [
    "tagger.tag([letter_finger[c] for c in 'temptation'])"
   ]
  },
  {
   "cell_type": "code",
   "execution_count": null,
   "metadata": {},
   "outputs": [],
   "source": []
  }
 ],
 "metadata": {
  "kernelspec": {
   "display_name": "Python 3",
   "language": "python",
   "name": "python3"
  },
  "language_info": {
   "codemirror_mode": {
    "name": "ipython",
    "version": 3
   },
   "file_extension": ".py",
   "mimetype": "text/x-python",
   "name": "python",
   "nbconvert_exporter": "python",
   "pygments_lexer": "ipython3",
   "version": "3.6.8"
  }
 },
 "nbformat": 4,
 "nbformat_minor": 2
}
