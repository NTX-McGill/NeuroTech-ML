{
 "cells": [
  {
   "cell_type": "code",
   "execution_count": 1,
   "metadata": {},
   "outputs": [
    {
     "name": "stderr",
     "output_type": "stream",
     "text": [
      "C:\\Users\\Home\\Anaconda3\\lib\\site-packages\\h5py\\__init__.py:36: FutureWarning: Conversion of the second argument of issubdtype from `float` to `np.floating` is deprecated. In future, it will be treated as `np.float64 == np.dtype(float).type`.\n",
      "  from ._conv import register_converters as _register_converters\n",
      "Using TensorFlow backend.\n"
     ]
    }
   ],
   "source": [
    "import numpy as np \n",
    "import matplotlib.pyplot as plt \n",
    "from keras.utils import to_categorical\n",
    "from nltk.tag import hmm\n",
    "from nltk.probability import LaplaceProbDist\n",
    "import random\n",
    "\n",
    "from finger_letter_mapping import letter_finger, finger_letter"
   ]
  },
  {
   "cell_type": "code",
   "execution_count": 2,
   "metadata": {
    "scrolled": false
   },
   "outputs": [
    {
     "name": "stdout",
     "output_type": "stream",
     "text": [
      "[nltk_data] Downloading package abc to\n",
      "[nltk_data]     C:\\Users\\Home\\AppData\\Roaming\\nltk_data...\n",
      "[nltk_data]   Package abc is already up-to-date!\n",
      "[nltk_data] Downloading package punkt to\n",
      "[nltk_data]     C:\\Users\\Home\\AppData\\Roaming\\nltk_data...\n",
      "[nltk_data]   Package punkt is already up-to-date!\n"
     ]
    },
    {
     "data": {
      "text/plain": [
       "True"
      ]
     },
     "execution_count": 2,
     "metadata": {},
     "output_type": "execute_result"
    }
   ],
   "source": [
    "import nltk\n",
    "nltk.download('abc')\n",
    "nltk.download('punkt')"
   ]
  },
  {
   "cell_type": "code",
   "execution_count": 3,
   "metadata": {},
   "outputs": [],
   "source": [
    "from smartcheck.smartcheck import Smartcheck"
   ]
  },
  {
   "cell_type": "code",
   "execution_count": 4,
   "metadata": {},
   "outputs": [],
   "source": [
    "def wordsplit_to_sent(data) : \n",
    "    return [' '.join(sent)[:-2].lower() for sent in data]"
   ]
  },
  {
   "cell_type": "code",
   "execution_count": 5,
   "metadata": {},
   "outputs": [],
   "source": [
    "sentences_wordsplit = nltk.corpus.abc.sents()[:9000]\n",
    "tester_wordsplit = nltk.corpus.abc.sents()[10000:11000]"
   ]
  },
  {
   "cell_type": "code",
   "execution_count": 6,
   "metadata": {},
   "outputs": [],
   "source": [
    "train_sentences = wordsplit_to_sent(sentences_wordsplit)\n",
    "test_sentences = wordsplit_to_sent(tester_wordsplit)"
   ]
  },
  {
   "cell_type": "code",
   "execution_count": 7,
   "metadata": {
    "scrolled": true
   },
   "outputs": [
    {
     "data": {
      "text/plain": [
       "['pm denies knowledge of awb kickbacks the prime minister has denied he knew awb was paying kickbacks to iraq despite writing to the wheat exporter asking to be kept fully informed on iraq wheat sales',\n",
       " 'letters from john howard and deputy prime minister mark vaile to awb have been released by the cole inquiry into the oil for food program']"
      ]
     },
     "execution_count": 7,
     "metadata": {},
     "output_type": "execute_result"
    }
   ],
   "source": [
    "train_sentences[:2]"
   ]
  },
  {
   "cell_type": "code",
   "execution_count": 8,
   "metadata": {},
   "outputs": [
    {
     "data": {
      "text/plain": [
       "['compo for murray valley irrigators ruled out the new south wales government has ruled out compensation for murray valley irrigators affected by water cut backs',\n",
       " 'high security allocations and carry over water in the murray valley have been cut by 20 per cent because of record low inflows']"
      ]
     },
     "execution_count": 8,
     "metadata": {},
     "output_type": "execute_result"
    }
   ],
   "source": [
    "test_sentences[:2]"
   ]
  },
  {
   "cell_type": "code",
   "execution_count": 9,
   "metadata": {},
   "outputs": [],
   "source": [
    "training = train_sentences\n",
    "testing = test_sentences"
   ]
  },
  {
   "cell_type": "code",
   "execution_count": 10,
   "metadata": {},
   "outputs": [],
   "source": [
    "# f1 = open('training.txt', 'r')\n",
    "# f2 = open('testing.txt', 'r')\n",
    "# training = f1.read().lower().splitlines()\n",
    "# testing = f2.read().lower().splitlines()\n",
    "# f1.close()\n",
    "# f2.close()"
   ]
  },
  {
   "cell_type": "code",
   "execution_count": 11,
   "metadata": {},
   "outputs": [
    {
     "name": "stdout",
     "output_type": "stream",
     "text": [
      "Letter space (hidden states):\n",
      "  dict_keys(['q', 'a', 'z', 'w', 's', 'x', 'e', 'd', 'c', 'r', 'f', 'v', 't', 'g', 'b', 'p', 'o', 'l', 'i', 'k', 'u', 'j', 'm', 'y', 'h', 'n', ' '])\n",
      "Finger space (observed states): \n",
      " dict_keys([0, 1, 2, 3, 4, 5, 6, 7, 8])\n"
     ]
    }
   ],
   "source": [
    "print('Letter space (hidden states):\\n ', letter_finger.keys())\n",
    "print('Finger space (observed states): \\n', finger_letter.keys())"
   ]
  },
  {
   "cell_type": "code",
   "execution_count": 12,
   "metadata": {
    "scrolled": true
   },
   "outputs": [
    {
     "name": "stdout",
     "output_type": "stream",
     "text": [
      "pm denies knowledge of awb kickbacks the prime minister has denied he knew awb was paying kickbacks to iraq despite writing to the wheat exporter asking to be kept fully informed on iraq wheat sales\n"
     ]
    }
   ],
   "source": [
    "print(training[0])"
   ]
  },
  {
   "cell_type": "code",
   "execution_count": 13,
   "metadata": {},
   "outputs": [],
   "source": [
    "def text_to_finger(data): \n",
    "    output = [] \n",
    "    for row in data:\n",
    "        output.append(np.array([letter_finger[c] for c in row.lower() if c in letter_finger.keys()]))\n",
    "    return np.array(output)\n",
    "def text_to_label(data): \n",
    "    output = []\n",
    "    for row in data: \n",
    "        output.append(np.array(list(filter(lambda c: c in letter_finger.keys(), row))))\n",
    "    return np.array(output)"
   ]
  },
  {
   "cell_type": "code",
   "execution_count": 14,
   "metadata": {
    "scrolled": false
   },
   "outputs": [
    {
     "name": "stdout",
     "output_type": "stream",
     "text": [
      "reality check: 9000 9000\n",
      "198 198\n"
     ]
    }
   ],
   "source": [
    "mapped_training = text_to_finger(training)\n",
    "mapped_testing = text_to_finger(testing)\n",
    "labels_training = text_to_label(training)\n",
    "labels_testing = text_to_label(testing)\n",
    "\n",
    "# list(map(lambda c: letter_finger[c] if c in letter_finger.keys() else None, sample_text.lower()))\n",
    "print('reality check:', mapped_training.size, len(labels_training))\n",
    "print(mapped_training[0].size, labels_training[0].size)"
   ]
  },
  {
   "cell_type": "code",
   "execution_count": 15,
   "metadata": {},
   "outputs": [],
   "source": [
    "def finger_to_onehot(data): \n",
    "    return np.array([to_categorical(row) for row in data])"
   ]
  },
  {
   "cell_type": "code",
   "execution_count": 16,
   "metadata": {},
   "outputs": [],
   "source": [
    "onehot_training = finger_to_onehot(mapped_training)\n",
    "onehot_testing = finger_to_onehot(mapped_testing)"
   ]
  },
  {
   "cell_type": "code",
   "execution_count": 17,
   "metadata": {},
   "outputs": [],
   "source": [
    "# TO DO: add noise to one hot encoding \n",
    "\n",
    "# to turn one hot back to label: np.argmax(mapped_one_hot[0])\n",
    "# mapped_noise = [letter + NOISE for letter in mapped_one_hot]\n",
    "# for letter in mapped_one_hot: \n",
    "    "
   ]
  },
  {
   "cell_type": "markdown",
   "metadata": {},
   "source": [
    "turn finger mapping back to text using HMM"
   ]
  },
  {
   "cell_type": "code",
   "execution_count": 18,
   "metadata": {},
   "outputs": [],
   "source": [
    "trainer = hmm.HiddenMarkovModelTrainer(states = letter_finger.keys(), symbols = finger_letter.keys())\n",
    "# symbols: observations ; states: hidden states"
   ]
  },
  {
   "cell_type": "code",
   "execution_count": 19,
   "metadata": {},
   "outputs": [],
   "source": [
    "est = LaplaceProbDist"
   ]
  },
  {
   "cell_type": "code",
   "execution_count": 20,
   "metadata": {},
   "outputs": [],
   "source": [
    "def make_seq(finger, labels): \n",
    "    out = []\n",
    "    for i in range(len(finger)): \n",
    "        out.append([(ss, target) for ss, target in zip(finger[i], labels[i])])\n",
    "    return out"
   ]
  },
  {
   "cell_type": "code",
   "execution_count": 21,
   "metadata": {},
   "outputs": [],
   "source": [
    "seq = make_seq(mapped_training, labels_training)\n",
    "test_seq = make_seq(mapped_testing, labels_testing)"
   ]
  },
  {
   "cell_type": "code",
   "execution_count": 22,
   "metadata": {},
   "outputs": [],
   "source": [
    "tagger = trainer.train_supervised(seq, estimator=est)"
   ]
  },
  {
   "cell_type": "code",
   "execution_count": 23,
   "metadata": {
    "scrolled": true
   },
   "outputs": [
    {
     "name": "stdout",
     "output_type": "stream",
     "text": [
      "accuracy over 133408 tokens: 78.84\n"
     ]
    }
   ],
   "source": [
    "tagger.test(test_seq)"
   ]
  },
  {
   "cell_type": "code",
   "execution_count": 24,
   "metadata": {},
   "outputs": [],
   "source": [
    "def letters_to_sents(tuple_list):  # turn [[(finger, letter), (.,.)], [...]] to list of sentences \n",
    "    return [''.join([y for (x,y) in entry]) for entry in tuple_list]"
   ]
  },
  {
   "cell_type": "code",
   "execution_count": 25,
   "metadata": {},
   "outputs": [],
   "source": [
    "test_true_output = letters_to_sents(test_seq)"
   ]
  },
  {
   "cell_type": "code",
   "execution_count": 26,
   "metadata": {},
   "outputs": [],
   "source": [
    "test_input = [[x for (x,y) in entry] for entry in test_seq]"
   ]
  },
  {
   "cell_type": "code",
   "execution_count": 27,
   "metadata": {},
   "outputs": [],
   "source": [
    "test_out = [tagger.tag(sent) for sent in test_input]"
   ]
  },
  {
   "cell_type": "code",
   "execution_count": 28,
   "metadata": {},
   "outputs": [],
   "source": [
    "test_out_sents = letters_to_sents(test_out)"
   ]
  },
  {
   "cell_type": "code",
   "execution_count": 37,
   "metadata": {},
   "outputs": [
    {
     "name": "stdout",
     "output_type": "stream",
     "text": [
      "[WinError 2] The system cannot find the file specified: 'smartcheck'\n",
      "C:\\Users\\Home\\Desktop\\Projects\\NeuroTech2020\\NeuroTech-ML\\siggy\\smartcheck\n"
     ]
    }
   ],
   "source": [
    "% cd smartcheck \n",
    "% pwd\n",
    "checker = Smartcheck()"
   ]
  },
  {
   "cell_type": "code",
   "execution_count": 51,
   "metadata": {},
   "outputs": [
    {
     "name": "stdout",
     "output_type": "stream",
     "text": [
      "bigot 4.391368203096302e-07 1e-10\n",
      "broo 4.9596665124121945e-08 1e-10\n",
      "bi 2.2223262622723224e-05 1.1551103000345158e-06\n",
      "bock 1.148594084061379e-06 1e-10\n",
      "bijou 5.814315892164282e-07 1e-10\n",
      "bark 6.053040969589862e-06 1.302612101137252e-06\n",
      "hook 1.931454038126194e-05 4.22335521566545e-06\n",
      "brink 2.5247710416140792e-06 3.4671607894329143e-06\n",
      "bide 3.287468758530712e-07 1e-10\n",
      "boor 2.2994972041280564e-07 1e-10\n",
      "boil 4.118628202779706e-06 6.670876228463609e-07\n",
      "biro 3.151307047702789e-07 1e-10\n",
      "oink 3.6395032316802273e-07 1e-10\n",
      "blog 0.0002466169918216982 1.1679845989445775e-05\n",
      "bo 1.063674779115699e-05 1e-10\n",
      "ilk 7.113038124275619e-07 1e-10\n",
      "pion 6.89276153039753e-07 1e-10\n",
      "amok 7.883572620977541e-07 1e-10\n",
      "wick 2.081789795378101e-06 1e-10\n",
      "blob 1.7950697552709562e-06 1e-10\n",
      "pick 6.553403460878577e-05 1.6356911010997643e-06\n",
      "ion 2.052997748700248e-05 1.5498281924338301e-06\n",
      "boom 1.3380073001411039e-05 1.950148286122249e-06\n",
      "dink 4.3403755743784024e-07 1e-10\n",
      "sook 1.9532438225971096e-07 1e-10\n",
      "milk 3.563177349393442e-05 3.901397441493448e-06\n",
      "lick 5.835450882993342e-06 1e-10\n",
      "boink 1.0206687284688512e-07 1e-10\n",
      "bind 1.13531338632457e-05 1e-10\n",
      "bin 9.70480555652886e-05 2.0870621714261884e-06\n",
      "brisk 1.3160485037563986e-06 1e-10\n",
      "block 8.44969877013381e-05 1.2368642753881443e-05\n",
      "bisk 3.289271098858854e-08 1e-10\n",
      "bite 1.0300886771970952e-05 1.0057688240979777e-06\n",
      "risk 0.00015555580243049855 5.1847091029580975e-05\n",
      "lion 1.9607675732744632e-05 2.9502464104000763e-06\n",
      "bill 0.0001674717051589591 3.352835273291777e-05\n",
      "cion 2.5605134907064088e-08 1e-10\n",
      "bint 2.3689043099721602e-07 1e-10\n",
      "bid 0.0001197487054309836 6.058166653763193e-06\n",
      "irk 2.0763640708619684e-07 1e-10\n",
      "bod 2.939049167963866e-06 1e-10\n",
      "riot 4.5327379973441295e-06 5.844930726617559e-07\n",
      "bunk 2.7981316591191387e-06 1e-10\n",
      "bio 3.130180218414838e-05 1.1013291676591127e-06\n",
      "bipod 1.0489450677679067e-07 1e-10\n",
      "biff 6.818508509520215e-07 1e-10\n",
      "disk 5.504899456394746e-05 8.997233125346149e-06\n",
      "silk 2.2272779372757323e-05 7.64575710781214e-07\n",
      "brow 2.3390432714411914e-06 5.1332309890515e-07\n",
      "buoy 1.6620383355223813e-06 1e-10\n",
      "nook 1.4315853200745475e-06 1e-10\n",
      "bitt 2.5382392847642786e-08 1e-10\n",
      "bilk 1.224894291500093e-07 1e-10\n",
      "birr 6.776034489334381e-07 1e-10\n",
      "kook 3.058095446958699e-07 1e-10\n",
      "bison 3.4040903796878747e-06 1e-10\n",
      "boos 7.677901785041657e-07 1e-10\n",
      "beck 7.2955114799314666e-06 1e-10\n",
      "bios 1.4617740104746039e-05 7.162548898806062e-07\n",
      "bigs 2.292865951977346e-07 1e-10\n",
      "sick 2.7146130786662168e-05 4.4311895443629005e-06\n",
      "bize 2.7647220505270075e-08 1e-10\n",
      "boot 3.5409090945750374e-05 5.3920918306258665e-06\n",
      "kick 2.2004958401279703e-05 1.3469306507238968e-06\n",
      "big 0.0003684434997951641 5.2002514196523936e-05\n",
      "boon 2.0290849433484667e-06 1e-10\n",
      "brick 1.3763026112793509e-05 1.4082906562842978e-06\n",
      "bulk 3.065594032884301e-05 9.631583343104825e-06\n",
      "grok 3.663834826110142e-07 1e-10\n",
      "wink 3.7261719969689494e-06 1e-10\n",
      "bib 3.770963554765403e-06 1e-10\n",
      "brook 1.0278343915300666e-05 5.729070354105774e-07\n",
      "ebook 1.6252192431321464e-05 6.804595146569482e-07\n",
      "dick 4.306520651699535e-05 6.670680518374907e-07\n",
      "bier 6.980906174370051e-07 1e-10\n",
      "bloc 3.766496811329527e-06 1e-10\n",
      "brio 1.5814754231755056e-06 1e-10\n",
      "broke 1.7786737292801646e-05 1e-10\n",
      "bids 4.91961153900452e-05 9.827190684010596e-07\n",
      "nick 3.1794269574639305e-05 5.639386205957926e-07\n",
      "bask 5.424721326704717e-07 1e-10\n",
      "ick 5.018208566655519e-07 1e-10\n",
      "box 0.00028774753902532907 4.7398869814748754e-05\n",
      "balk 4.977162816163685e-07 1e-10\n",
      "bias 1.4975210504338073e-05 2.128513568213344e-06\n",
      "bice 5.026914210504657e-07 1e-10\n",
      "ink 4.324846372066183e-05 2.3395477568610774e-06\n",
      "bidi 6.182554425056432e-07 1e-10\n",
      "bro 4.374614939649904e-06 1e-10\n",
      "bise 4.9140979078893634e-08 1e-10\n",
      "bob 7.22534705108533e-05 1e-10\n",
      "bop 2.9342321583887477e-06 1e-10\n",
      "bros 3.8090745511002813e-06 1e-10\n",
      "busk 8.845920336941425e-08 1e-10\n",
      "blow 5.3295705097868103e-05 1.6092702391249483e-06\n",
      "bank 0.0001556802897368991 2.5849916933044557e-05\n",
      "bow 1.643147428433965e-05 2.875627046330092e-06\n",
      "rick 2.350238185328442e-05 1e-10\n",
      "kirk 8.78059570197267e-06 1e-10\n",
      "bine 1.7320660585549488e-07 1e-10\n",
      "bibb 6.735838899374691e-07 1e-10\n",
      "viol 7.349110700840915e-07 1e-10\n",
      "biz 2.902101021204852e-05 5.310250764282766e-07\n",
      "hick 5.082242657936483e-07 1e-10\n",
      "bog 2.0855015962614347e-06 1e-10\n",
      "bot 7.5472457138198886e-06 8.096183876960575e-07\n",
      "link 0.0004087616948058381 7.426963992697803e-05\n",
      "took 0.00011272648315507249 1e-10\n",
      "mink 1.6909335916888364e-06 1e-10\n",
      "bima 1.2066158400590318e-07 1e-10\n",
      "diol 2.3017416279329123e-07 1e-10\n",
      "rook 1.0069947464698734e-06 1e-10\n",
      "berk 5.423803153330004e-07 1e-10\n",
      "gook 1.8448823611702423e-07 1e-10\n",
      "bos 3.779366541465098e-06 1e-10\n",
      "bird 5.00526062175099e-05 6.03322340295808e-06\n",
      "biogs 6.304790506367862e-08 1e-10\n",
      "kiosk 3.074428731102218e-06 1e-10\n",
      "bork 5.878945095817746e-07 1e-10\n",
      "bike 4.129467069436096e-05 6.544770432808256e-06\n",
      "boo 4.9041170232420115e-06 1e-10\n",
      "bibs 1.3932073733325763e-06 1e-10\n",
      "biog 2.1719051114641288e-07 1e-10\n",
      "bonk 3.4842299120897435e-07 1e-10\n",
      "biota 7.391788759554462e-07 1e-10\n",
      "beak 9.545313400313672e-07 1e-10\n",
      "brock 4.151179149234374e-06 1e-10\n",
      "boa 2.8784480249116933e-06 1e-10\n",
      "biome 2.9631155123077524e-07 1e-10\n",
      "bis 5.217363772273064e-06 1e-10\n",
      "sink 1.3807610231420118e-05 2.692227122207129e-06\n",
      "kink 9.615485650636705e-07 1e-10\n",
      "bins 5.723860511865398e-06 1e-10\n",
      "boob 1.625079816804875e-05 1e-10\n",
      "wok 1.2271625197998487e-06 1e-10\n",
      "blink 8.939657336894379e-06 8.097994195281072e-07\n",
      "pink 7.091107213156369e-05 2.534939816669276e-06\n",
      "bloke 1.3037432802141697e-06 1e-10\n",
      "birk 2.015849644184074e-07 1e-10\n",
      "boy 9.97480497935404e-05 1.2949735363751995e-05\n",
      "back 0.0008297976724114981 7.838754654685066e-05\n",
      "yok 1.6302168268042922e-07 1e-10\n",
      "look 0.0002942286613276686 1.3552008697972359e-05\n",
      "cook 4.1508373847004524e-05 1.2862409522173012e-06\n",
      "bile 2.3010376950122986e-06 5.66184393863652e-07\n",
      "birks 2.0497200397846263e-07 1e-10\n",
      "blot 1.9121861698578256e-06 1e-10\n",
      "rink 2.142231108250231e-06 5.5618850108318e-07\n",
      "books 0.0005912189501215272 1.9156822716761018e-05\n",
      "fink 2.3208566373376017e-06 1e-10\n",
      "tick 7.565695897688442e-06 1.0314753442490301e-06\n",
      "book 0.0005627381727193074 9.838723879537825e-05\n",
      "bits 3.3916710646022326e-05 2.23417255235152e-06\n",
      "bit 0.00013961995133254514 4.327605087164969e-06\n",
      "buck 1.1340243729257357e-05 1.7238927453256913e-06\n",
      "mick 4.7967264451428515e-06 1e-10\n",
      "dirk 3.478834793352768e-06 1e-10\n"
     ]
    },
    {
     "data": {
      "text/plain": [
       "'back'"
      ]
     },
     "execution_count": 51,
     "metadata": {},
     "output_type": "execute_result"
    }
   ],
   "source": [
    "checker.correction('biok', 'the')"
   ]
  },
  {
   "cell_type": "code",
   "execution_count": 47,
   "metadata": {},
   "outputs": [],
   "source": [
    "words = letters_to_sents([tagger.tag([letter_finger[c] for c in 'hello this is a testing open computer'])])[0].split()"
   ]
  },
  {
   "cell_type": "code",
   "execution_count": 48,
   "metadata": {},
   "outputs": [
    {
     "data": {
      "text/plain": [
       "['helll', 'this', 'is', 'a', 'besting', 'open', 'compurer']"
      ]
     },
     "execution_count": 48,
     "metadata": {},
     "output_type": "execute_result"
    }
   ],
   "source": [
    "words"
   ]
  },
  {
   "cell_type": "code",
   "execution_count": null,
   "metadata": {
    "collapsed": true
   },
   "outputs": [],
   "source": [
    "[checker.correction()for ]"
   ]
  },
  {
   "cell_type": "code",
   "execution_count": 28,
   "metadata": {},
   "outputs": [],
   "source": [
    "# from spell import correction\n",
    "# letters_to_sents([tagger.tag([letter_finger[c] for c in 'hello this is a testing open computer'])])[0]"
   ]
  },
  {
   "cell_type": "code",
   "execution_count": null,
   "metadata": {},
   "outputs": [],
   "source": []
  }
 ],
 "metadata": {
  "kernelspec": {
   "display_name": "Python 3",
   "language": "python",
   "name": "python3"
  },
  "language_info": {
   "codemirror_mode": {
    "name": "ipython",
    "version": 3
   },
   "file_extension": ".py",
   "mimetype": "text/x-python",
   "name": "python",
   "nbconvert_exporter": "python",
   "pygments_lexer": "ipython3",
   "version": "3.6.8"
  }
 },
 "nbformat": 4,
 "nbformat_minor": 2
}
